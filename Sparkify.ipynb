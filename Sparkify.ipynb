{
 "cells": [
  {
   "cell_type": "markdown",
   "metadata": {},
   "source": [
    "# Sparkify Project Workspace\n",
    "This workspace contains a tiny subset (128MB) of the full dataset available (12GB). Feel free to use this workspace to build your project, or to explore a smaller subset with Spark before deploying your cluster on the cloud. Instructions for setting up your Spark cluster is included in the last lesson of the Extracurricular Spark Course content.\n",
    "\n",
    "You can follow the steps below to guide your data analysis and model building portion of this project."
   ]
  },
  {
   "cell_type": "code",
   "execution_count": 23,
   "metadata": {},
   "outputs": [],
   "source": [
    "# import libraries\n",
    "import matplotlib.pyplot as plt\n",
    "import seaborn as sns\n",
    "from pyspark.sql import SparkSession\n",
    "from pyspark.sql import Window\n",
    "from pyspark.sql.functions import col, when, count, max, countDistinct, avg\n",
    "from pyspark.ml.feature import VectorAssembler\n",
    "from pyspark.ml.classification import LogisticRegression, DecisionTreeClassifier, RandomForestClassifier\n",
    "from pyspark.ml.evaluation import MulticlassClassificationEvaluator\n",
    "from pyspark.sql import functions as F"
   ]
  },
  {
   "cell_type": "code",
   "execution_count": 24,
   "metadata": {},
   "outputs": [],
   "source": [
    "# create a Spark session\n",
    "spark = SparkSession.builder \\\n",
    "    .appName(\"SparkifyChurnPrediction\") \\\n",
    "    .getOrCreate()"
   ]
  },
  {
   "cell_type": "markdown",
   "metadata": {},
   "source": [
    "# Load and Clean Dataset\n",
    "In this workspace, the mini-dataset file is `mini_sparkify_event_data.json`. Load and clean the dataset, checking for invalid or missing data - for example, records without userids or sessionids. "
   ]
  },
  {
   "cell_type": "code",
   "execution_count": 25,
   "metadata": {},
   "outputs": [
    {
     "name": "stdout",
     "output_type": "stream",
     "text": [
      "root\n",
      " |-- artist: string (nullable = true)\n",
      " |-- auth: string (nullable = true)\n",
      " |-- firstName: string (nullable = true)\n",
      " |-- gender: string (nullable = true)\n",
      " |-- itemInSession: long (nullable = true)\n",
      " |-- lastName: string (nullable = true)\n",
      " |-- length: double (nullable = true)\n",
      " |-- level: string (nullable = true)\n",
      " |-- location: string (nullable = true)\n",
      " |-- method: string (nullable = true)\n",
      " |-- page: string (nullable = true)\n",
      " |-- registration: long (nullable = true)\n",
      " |-- sessionId: long (nullable = true)\n",
      " |-- song: string (nullable = true)\n",
      " |-- status: long (nullable = true)\n",
      " |-- ts: long (nullable = true)\n",
      " |-- userAgent: string (nullable = true)\n",
      " |-- userId: string (nullable = true)\n",
      "\n"
     ]
    }
   ],
   "source": [
    "def load_data(spark, filepath):\n",
    "    \"\"\"Load dataset from JSON file.\"\"\"\n",
    "    return spark.read.json(filepath)\n",
    "\n",
    "#the filepath variable name\n",
    "filepath = \"mini_sparkify_event_data.json\"\n",
    "df = load_data(spark, filepath)\n",
    "\n",
    "# Inspect the data schema to understand its structure\n",
    "df.printSchema()\n"
   ]
  },
  {
   "cell_type": "code",
   "execution_count": 26,
   "metadata": {},
   "outputs": [
    {
     "name": "stdout",
     "output_type": "stream",
     "text": [
      "Count of missing or invalid userid records: 8346\n",
      "Count of missing or invalid sessionid records: 0\n"
     ]
    }
   ],
   "source": [
    "# Check for missing or invalid data\n",
    "print(\"Count of missing or invalid userid records:\", df.filter(df.userId == \"\").count())\n",
    "print(\"Count of missing or invalid sessionid records:\", df.filter(df.sessionId == \"\").count())\n",
    "\n",
    "# Drop rows with missing or invalid data\n",
    "cleaned_df = df.dropna(how=\"any\", subset=[\"userId\", \"sessionId\"])"
   ]
  },
  {
   "cell_type": "markdown",
   "metadata": {},
   "source": [
    "# Exploratory Data Analysis\n",
    "When you're working with the full dataset, perform EDA by loading a small subset of the data and doing basic manipulations within Spark. In this workspace, you are already provided a small subset of data you can explore.\n",
    "\n",
    "### Define Churn\n",
    "\n",
    "Once you've done some preliminary analysis, create a column `Churn` to use as the label for your model. I suggest using the `Cancellation Confirmation` events to define your churn, which happen for both paid and free users. As a bonus task, you can also look into the `Downgrade` events.\n",
    "\n",
    "### Explore Data\n",
    "Once you've defined churn, perform some exploratory data analysis to observe the behavior for users who stayed vs users who churned. You can start by exploring aggregates on these two groups of users, observing how much of a specific action they experienced per a certain time unit or number of songs played."
   ]
  },
  {
   "cell_type": "code",
   "execution_count": 27,
   "metadata": {},
   "outputs": [
    {
     "name": "stdout",
     "output_type": "stream",
     "text": [
      "+-----+----------------------+\n",
      "|churn|count(DISTINCT userId)|\n",
      "+-----+----------------------+\n",
      "|    1|                    52|\n",
      "|    0|                   174|\n",
      "+-----+----------------------+\n",
      "\n"
     ]
    }
   ],
   "source": [
    "window = Window.partitionBy(\"userId\")\n",
    "\n",
    "df = df.withColumn(\"churn\", when(col(\"page\") == \"Cancellation Confirmation\", 1).otherwise(0))\n",
    "df = df.withColumn(\"churn\", max(\"churn\").over(window))\n",
    "\n",
    "# Explore the data for users who stayed vs. users who churned\n",
    "df.groupBy(\"churn\").agg(countDistinct(\"userId\")).show()"
   ]
  },
  {
   "cell_type": "markdown",
   "metadata": {},
   "source": [
    "# Feature Engineering\n",
    "Once you've familiarized yourself with the data, build out the features you find promising to train your model on. To work with the full dataset, you can follow the following steps.\n",
    "- Write a script to extract the necessary features from the smaller subset of data\n",
    "- Ensure that your script is scalable, using the best practices discussed in Lesson 3\n",
    "- Try your script on the full data set, debugging your script if necessary\n",
    "\n",
    "If you are working in the classroom workspace, you can just extract features based on the small subset of data contained here. Be sure to transfer over this work to the larger dataset when you work on your Spark cluster."
   ]
  },
  {
   "cell_type": "code",
   "execution_count": 30,
   "metadata": {},
   "outputs": [],
   "source": [
    "def extract_user_activity_features(df):\n",
    "    # Define window partitioned by userId\n",
    "    window = Window.partitionBy(\"userId\")\n",
    "    \n",
    "    # Calculate activity metrics\n",
    "    activity_features = df.groupBy(\"userId\") \\\n",
    "                          .agg(count(\"sessionId\").alias(\"num_sessions\"),\n",
    "                               avg(\"length\").alias(\"avg_session_length\"),\n",
    "                               F.sum(when(col(\"page\") == \"Thumbs Up\", 1).otherwise(0)).alias(\"thumbs_up_count\"),\n",
    "                               F.sum(when(col(\"page\") == \"Thumbs Down\", 1).otherwise(0)).alias(\"thumbs_down_count\"),\n",
    "                               count(\"song\").alias(\"num_songs_played\")) \\\n",
    "                          .withColumn(\"songs_per_session\", col(\"num_songs_played\") / col(\"num_sessions\"))\n",
    "    \n",
    "    return activity_features\n"
   ]
  },
  {
   "cell_type": "code",
   "execution_count": 31,
   "metadata": {},
   "outputs": [
    {
     "data": {
      "text/plain": [
       "<matplotlib.figure.Figure at 0x7f8be4875320>"
      ]
     },
     "metadata": {},
     "output_type": "display_data"
    },
    {
     "data": {
      "image/png": "[encoded data removed]",
      "text/plain": [
       "<matplotlib.figure.Figure at 0x7f8be45c1a58>"
      ]
     },
     "metadata": {
      "needs_background": "light"
     },
     "output_type": "display_data"
    }
   ],
   "source": [
    "from pyspark.sql.functions import desc\n",
    "\n",
    "top_songs = df.groupBy(\"song\").count().orderBy(desc(\"count\")).limit(10)\n",
    "\n",
    "# Convert to Pandas for plotting\n",
    "top_songs_pd = top_songs.toPandas().set_index('song')\n",
    "\n",
    "# Plot\n",
    "plt.figure(figsize=(10, 8))\n",
    "top_songs_pd.plot.barh(color='yellow')\n",
    "plt.title('Top 10 Popular Songs from the Data')\n",
    "plt.xlabel('Number of Plays')\n",
    "plt.gca().invert_yaxis()\n",
    "plt.show()"
   ]
  },
  {
   "cell_type": "code",
   "execution_count": 32,
   "metadata": {},
   "outputs": [
    {
     "data": {
      "image/png": "[encoded data removed]",
      "text/plain": [
       "<matplotlib.figure.Figure at 0x7f8be45f15c0>"
      ]
     },
     "metadata": {
      "needs_background": "light"
     },
     "output_type": "display_data"
    }
   ],
   "source": [
    "import matplotlib.pyplot as plt\n",
    "import seaborn as sns\n",
    "\n",
    "# Count the number of occurrences of each gender\n",
    "gender_counts = cleaned_df.groupBy('gender').count().toPandas()\n",
    "\n",
    "# Create a bar plot\n",
    "plt.figure(figsize=(8, 6))\n",
    "sns.barplot(x='gender', y='count', data=gender_counts, palette='pastel')\n",
    "plt.title('Distribution of User Genders')\n",
    "plt.xlabel('Gender')\n",
    "plt.ylabel('Count')\n",
    "plt.show()"
   ]
  },
  {
   "cell_type": "code",
   "execution_count": 33,
   "metadata": {},
   "outputs": [
    {
     "data": {
      "image/png": "[encoded data removed]",
      "text/plain": [
       "<matplotlib.figure.Figure at 0x7f8be45525c0>"
      ]
     },
     "metadata": {
      "needs_background": "light"
     },
     "output_type": "display_data"
    }
   ],
   "source": [
    "df_features = extract_user_activity_features(cleaned_df)\n",
    "\n",
    "thumbs_up_data = df_features.select(\"thumbs_up_count\", \"thumbs_down_count\").toPandas()\n",
    "\n",
    "# Plot thumbs up vs thumbs down\n",
    "plt.figure(figsize=(10,6))\n",
    "plt.hist(thumbs_up_data[\"thumbs_up_count\"], bins=50, alpha=0.7, label='Thumbs Up')\n",
    "plt.hist(thumbs_up_data[\"thumbs_down_count\"], bins=50, alpha=0.7, label='Thumbs Down')\n",
    "plt.legend()\n",
    "plt.title(\"Distribution of Thumbs Up and Thumbs Down\")\n",
    "plt.xlabel(\"Count\")\n",
    "plt.ylabel(\"Frequency\")\n",
    "plt.show()"
   ]
  },
  {
   "cell_type": "code",
   "execution_count": 34,
   "metadata": {},
   "outputs": [
    {
     "data": {
      "text/plain": [
       "<matplotlib.figure.Figure at 0x7f8be4823278>"
      ]
     },
     "metadata": {},
     "output_type": "display_data"
    },
    {
     "data": {
      "image/png": "[encoded data removed]",
      "text/plain": [
       "<matplotlib.figure.Figure at 0x7f8be4819e48>"
      ]
     },
     "metadata": {
      "needs_background": "light"
     },
     "output_type": "display_data"
    }
   ],
   "source": [
    "# Convert 'ts' from milliseconds to seconds and then to a timestamp type\n",
    "df = df.withColumn(\"timestamp\", F.from_unixtime(F.col(\"ts\") / 1000))\n",
    "\n",
    "# Extract the hour from the timestamp\n",
    "df = df.withColumn(\"hour\", F.hour(F.col(\"timestamp\")))\n",
    "# Count entries by hour\n",
    "hourly_activity = df.groupBy(\"hour\").count().orderBy(\"hour\")\n",
    "\n",
    "# To visualize using pandas and matplotlib\n",
    "if df.rdd.getNumPartitions() > 0:  # Check if DataFrame is not empty\n",
    "    # Convert to Pandas for plotting\n",
    "    hourly_activity_pd = hourly_activity.toPandas().set_index('hour')\n",
    "\n",
    "    # Plot\n",
    "    plt.figure(figsize=(10, 8))\n",
    "    hourly_activity_pd.plot(kind='bar', color='green')\n",
    "    plt.title('User Activity of the Day by Hour')\n",
    "    plt.xlabel('Hour')\n",
    "    plt.ylabel('Number of Activities')\n",
    "    plt.xticks(rotation=0)\n",
    "    plt.show()\n",
    "else:\n",
    "    print(\"No data available for plotting.\")"
   ]
  },
  {
   "cell_type": "markdown",
   "metadata": {},
   "source": [
    "# Modeling\n",
    "Split the full dataset into train, test, and validation sets. Test out several of the machine learning methods you learned. Evaluate the accuracy of the various models, tuning parameters as necessary. Determine your winning model based on test accuracy and report results on the validation set. Since the churned users are a fairly small subset, I suggest using F1 score as the metric to optimize."
   ]
  },
  {
   "cell_type": "code",
   "execution_count": 35,
   "metadata": {},
   "outputs": [],
   "source": [
    "# Define the list of feature columns\n",
    "feature_cols = ['itemInSession', 'length', 'registration', 'status', 'ts']\n",
    "\n",
    "# Create a VectorAssembler instance\n",
    "assembler = VectorAssembler(inputCols=feature_cols, outputCol=\"features\")\n",
    "\n",
    "# Drop rows with null values in any of the feature columns\n",
    "df_clean = df.dropna(subset=feature_cols)\n",
    "\n",
    "# Assemble the features\n",
    "df_assembled = assembler.transform(df_clean)"
   ]
  },
  {
   "cell_type": "code",
   "execution_count": 36,
   "metadata": {},
   "outputs": [
    {
     "name": "stdout",
     "output_type": "stream",
     "text": [
      "F1 Score for LogisticRegression: 0.7674245517813791\n",
      "F1 Score for DecisionTreeClassifier: 0.8048891994575781\n",
      "F1 Score for RandomForestClassifier: 0.7823534502121344\n"
     ]
    }
   ],
   "source": [
    "# Split the dataset\n",
    "train, test, validation = df.randomSplit([0.6, 0.2, 0.2], seed=42)\n",
    "\n",
    "# Feature Engineering with handling null values\n",
    "assembler = VectorAssembler(inputCols=feature_cols, outputCol=\"features\", handleInvalid=\"skip\")\n",
    "train = assembler.transform(train).na.drop()\n",
    "test = assembler.transform(test).na.drop()\n",
    "validation = assembler.transform(validation).na.drop()\n",
    "\n",
    "# Rename the \"churn\" column to \"label\"\n",
    "train = train.withColumnRenamed(\"churn\", \"label\")\n",
    "test = test.withColumnRenamed(\"churn\", \"label\")\n",
    "validation = validation.withColumnRenamed(\"churn\", \"label\")\n",
    "\n",
    "# Select Machine Learning Algorithms\n",
    "lr = LogisticRegression()\n",
    "dt = DecisionTreeClassifier()\n",
    "rf = RandomForestClassifier()\n",
    "\n",
    "# Train Models\n",
    "models = [lr, dt, rf]\n",
    "for model in models:\n",
    "    model_fit = model.fit(train)\n",
    "\n",
    "    # Evaluate Models\n",
    "    evaluator = MulticlassClassificationEvaluator(labelCol=\"label\", predictionCol=\"prediction\", metricName=\"f1\")\n",
    "    f1_score = evaluator.evaluate(model_fit.transform(validation))\n",
    "    print(f\"F1 Score for {model.__class__.__name__}: {f1_score}\")\n",
    "\n",
    "# Select Winning Model: Choose the model with the highest F1 score on the validation set"
   ]
  },
  {
   "cell_type": "markdown",
   "metadata": {},
   "source": [
    "Based on the evaluation results, the Decision Tree Classifier outperformed both Logistic Regression and Random Forests in predicting churn, achieving the highest F1 score of 0.8049. The reasons behind this superior performance can be summarized as follows:\n",
    "\n",
    "1. Model Complexity and Flexibility\n",
    "Decision Trees are well-suited for capturing non-linear relationships in data. While Logistic Regression assumes linear relationships, which may not always hold true in real-world datasets, Random Forests might not outperform a single decision tree in simpler cases due to the averaging of multiple trees that may smooth out important signals. Decision trees are more flexible in terms of the complexity they can model without assuming linearity.\n",
    "2. Interpretability\n",
    "Decision Trees are known for their interpretability. Each decision rule (split) in a tree is based on a single feature and a threshold, making it easy to trace the logic behind the model's decisions. This transparency is valuable, especially when the goal is to derive actionable business insights (e.g., understanding what user behaviors lead to churn). In contrast, Logistic Regression might be less intuitive when dealing with multiple features, and Random Forests, being an ensemble method, can become complex and harder to interpret due to the combination of many trees.\n",
    "3. Feature Selection\n",
    "Decision Trees inherently perform feature selection at each split, focusing on the most important features that best separate the classes. This feature selection process can be very effective, particularly in datasets with many features, as the tree splits on the most informative ones. Although Random Forests also offer feature importance scores and Logistic Regression provides coefficients, the Decision Tree classifier’s built-in feature selection often leads to better performance when the most predictive features are identified.\n",
    "4. Hyperparameter Tuning\n",
    "The performance of the Decision Tree Classifier was likely enhanced through effective hyperparameter tuning. Parameters such as tree depth, minimum samples per leaf, and the maximum number of features considered at each split can significantly impact model performance. By fine-tuning these parameters, the model was able to better capture the nuances of the data. While Random Forests benefit from ensemble methods, individual decision trees can be tuned more precisely for this particular dataset.\n",
    "5. Model Simplicity and Efficiency\n",
    "Decision Trees are computationally efficient and can handle large datasets quickly, which can make them attractive for real-time predictions in large-scale applications. While Random Forests generally offer better performance by combining many trees, they can be slower to train and harder to deploy at scale, especially in resource-constrained environments.\n",
    "Final Summary\n",
    "In conclusion, the Decision Tree Classifier achieved the highest F1 score and outperformed Logistic Regression and Random Forests in this churn prediction task. Its ability to capture non-linear relationships, its ease of interpretability, the built-in feature selection mechanism, and effective hyperparameter tuning contributed to its superior performance. While Random Forests are generally robust, the simpler and more interpretable Decision Tree model provided the best results for this dataset, making it the optimal choice for this particular churn prediction problem."
   ]
  },
  {
   "cell_type": "markdown",
   "metadata": {},
   "source": [
    "# Final Steps\n",
    "Clean up your code, adding comments and renaming variables to make the code easier to read and maintain. Refer to the Spark Project Overview page and Data Scientist Capstone Project Rubric to make sure you are including all components of the capstone project and meet all expectations. Remember, this includes thorough documentation in a README file in a Github repository, as well as a web app or blog post."
   ]
  },
  {
   "cell_type": "code",
   "execution_count": null,
   "metadata": {},
   "outputs": [],
   "source": []
  }
 ],
 "metadata": {
  "kernelspec": {
   "display_name": "Python 3",
   "language": "python",
   "name": "python3"
  },
  "language_info": {
   "codemirror_mode": {
    "name": "ipython",
    "version": 3
   },
   "file_extension": ".py",
   "mimetype": "text/x-python",
   "name": "python",
   "nbconvert_exporter": "python",
   "pygments_lexer": "ipython3",
   "version": "3.6.3"
  }
 },
 "nbformat": 4,
 "nbformat_minor": 2
}
